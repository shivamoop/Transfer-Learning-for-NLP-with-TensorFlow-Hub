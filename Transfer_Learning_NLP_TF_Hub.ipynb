{
  "nbformat": 4,
  "nbformat_minor": 0,
  "metadata": {
    "colab": {
      "provenance": [],
      "include_colab_link": true
    },
    "kernelspec": {
      "name": "python3",
      "display_name": "Python 3"
    },
    "accelerator": "GPU"
  },
  "cells": [
    {
      "cell_type": "markdown",
      "metadata": {
        "id": "view-in-github",
        "colab_type": "text"
      },
      "source": [
        "<a href=\"https://colab.research.google.com/github/shivamoop/Transfer-Learning-for-NLP-with-TensorFlow-Hub/blob/main/Transfer_Learning_NLP_TF_Hub.ipynb\" target=\"_parent\"><img src=\"https://colab.research.google.com/assets/colab-badge.svg\" alt=\"Open In Colab\"/></a>"
      ]
    },
    {
      "cell_type": "markdown",
      "metadata": {
        "id": "YOPcjnDDc5c7"
      },
      "source": [
        "<h2 align=left> Transfer Learning for NLP with TensorFlow Hub</h2>\n",
        "\n",
        "---"
      ]
    },
    {
      "cell_type": "markdown",
      "metadata": {
        "id": "bgBRL1nR_jdt"
      },
      "source": [
        "This is a starter notebook for the guided project [Transfer Learning for NLP with TensorFlow Hub](https://www.coursera.org/projects/transfer-learning-nlp-tensorflow-hub/)\n",
        "\n",
        "A complete version of this notebook is available in the course resources.\n",
        "\n",
        "---"
      ]
    },
    {
      "cell_type": "markdown",
      "metadata": {
        "id": "ak95VdGNn3lJ"
      },
      "source": [
        "### Overview\n",
        "\n",
        "[TensorFlow Hub](https://tfhub.dev/) is a repository of pre-trained TensorFlow models.\n",
        "\n",
        "In this project, you will use pre-trained models from TensorFlow Hub with [`tf.keras`](https://www.tensorflow.org/api_docs/python/tf/keras) for text classification. Transfer learning makes it possible to save training resources and to achieve good model generalization even when training on a small dataset. In this project, we will demonstrate this by training with several different TF-Hub modules."
      ]
    },
    {
      "cell_type": "markdown",
      "metadata": {
        "id": "cNNs4oBDoSf-"
      },
      "source": [
        "### Learning Objectives"
      ]
    },
    {
      "cell_type": "markdown",
      "metadata": {
        "id": "MyoqkQFsoUzB"
      },
      "source": [
        "By the time you complete this project, you will be able to:\n",
        "\n",
        "- Use various pre-trained NLP text embedding models from TensorFlow Hub\n",
        "- Perform transfer learning to fine-tune models on your own text data\n",
        "- Visualize model performance metrics with [TensorBoard](https://www.tensorflow.org/tensorboard)"
      ]
    },
    {
      "cell_type": "markdown",
      "metadata": {
        "id": "n_BTLVEapAm0"
      },
      "source": [
        "### Prerequisites"
      ]
    },
    {
      "cell_type": "markdown",
      "metadata": {
        "id": "-MAL1ZXnpCiF"
      },
      "source": [
        "In order to be successful with this project, it is assumed you are:\n",
        "\n",
        "- Competent in the Python programming language\n",
        "- Familiar with deep learning for Natural Language Processing (NLP)\n",
        "- Familiar with TensorFlow, and its Keras API"
      ]
    },
    {
      "cell_type": "markdown",
      "metadata": {
        "id": "5d14nw7gpEth"
      },
      "source": [
        "### Contents"
      ]
    },
    {
      "cell_type": "markdown",
      "metadata": {
        "id": "zGRlcriNpJGO"
      },
      "source": [
        "This project/notebook consists of several Tasks.\n",
        "\n",
        "- **[Task 1]()**: Introduction to the Project.\n",
        "- **[Task 2]()**: Setup your TensorFlow and Colab Runtime\n",
        "- **[Task 3]()**: Download and Import the Quora Insincere Questions Dataset\n",
        "- **[Task 4]()**: TensorFlow Hub for Natural Language Processing\n",
        "- **[Task 5]()**: Define Function to Build and Compile Models\n",
        "- **[Task 6]()**: Define Function to Build and Compile Models(Continued...)\n",
        "- **[Task 7]()**: Train Various Text Classification Models\n",
        "- **[Task 8]()**: Compare Accuracy and Loss Curves\n",
        "- **[Task 9]()**: Fine-tuning Models from TF Hub\n",
        "- **[Task 10]()**: Train Bigger Models and Visualize Metrics with TensorBoard"
      ]
    },
    {
      "cell_type": "markdown",
      "metadata": {
        "id": "kAxib00jpYbS"
      },
      "source": [
        "## Task 2: Setup your TensorFlow and Colab Runtime."
      ]
    },
    {
      "cell_type": "markdown",
      "metadata": {
        "id": "GIPs2VnspY9l"
      },
      "source": [
        "You will only be able to use the Colab Notebook after you save it to your Google Drive folder. Click on the File menu and select “Save a copy in Drive…\n",
        "\n",
        "![Copy to Drive](https://drive.google.com/uc?id=1CH3eDmuJL8WR0AP1r3UE6sOPuqq8_Wl7)\n"
      ]
    },
    {
      "cell_type": "markdown",
      "metadata": {
        "id": "wcz2wdA_pez8"
      },
      "source": [
        "### Check GPU Availability\n",
        "\n",
        "Check if your Colab notebook is configured to use Graphical Processing Units (GPUs). If zero GPUs are available, check if the Colab notebook is configured to use GPUs (Menu > Runtime > Change Runtime Type).\n",
        "\n",
        "![Hardware Accelerator Settings](https://drive.google.com/uc?id=1qrihuuMtvzXJHiRV8M7RngbxFYipXKQx)\n"
      ]
    },
    {
      "cell_type": "code",
      "metadata": {
        "id": "PwWXcwno4wB9",
        "colab": {
          "base_uri": "https://localhost:8080/"
        },
        "outputId": "e2b1ed0f-d20f-4606-ffe2-5b65c05ee8de"
      },
      "source": [
        "!nvidia-smi"
      ],
      "execution_count": 13,
      "outputs": [
        {
          "output_type": "stream",
          "name": "stdout",
          "text": [
            "Wed Jul 16 07:58:51 2025       \n",
            "+-----------------------------------------------------------------------------------------+\n",
            "| NVIDIA-SMI 550.54.15              Driver Version: 550.54.15      CUDA Version: 12.4     |\n",
            "|-----------------------------------------+------------------------+----------------------+\n",
            "| GPU  Name                 Persistence-M | Bus-Id          Disp.A | Volatile Uncorr. ECC |\n",
            "| Fan  Temp   Perf          Pwr:Usage/Cap |           Memory-Usage | GPU-Util  Compute M. |\n",
            "|                                         |                        |               MIG M. |\n",
            "|=========================================+========================+======================|\n",
            "|   0  Tesla T4                       Off |   00000000:00:04.0 Off |                    0 |\n",
            "| N/A   38C    P8              9W /   70W |       2MiB /  15360MiB |      0%      Default |\n",
            "|                                         |                        |                  N/A |\n",
            "+-----------------------------------------+------------------------+----------------------+\n",
            "                                                                                         \n",
            "+-----------------------------------------------------------------------------------------+\n",
            "| Processes:                                                                              |\n",
            "|  GPU   GI   CI        PID   Type   Process name                              GPU Memory |\n",
            "|        ID   ID                                                               Usage      |\n",
            "|=========================================================================================|\n",
            "|  No running processes found                                                             |\n",
            "+-----------------------------------------------------------------------------------------+\n"
          ]
        }
      ]
    },
    {
      "cell_type": "code",
      "metadata": {
        "id": "YxB26qlms3qE",
        "outputId": "277b962f-c56c-48fd-e246-2844de44392f",
        "colab": {
          "base_uri": "https://localhost:8080/"
        }
      },
      "source": [
        "import numpy as np\n",
        "import pandas as pd\n",
        "\n",
        "import tensorflow as tf\n",
        "import tensorflow_hub as hub\n",
        "import tensorflow_datasets as tfds\n",
        "\n",
        "import matplotlib.pyplot as plt\n",
        "plt.rcParams['figure.figsize'] = (12, 8)\n",
        "from  IPython import display\n",
        "\n",
        "import pathlib\n",
        "import shutil\n",
        "import tempfile\n",
        "\n",
        "!pip install -q git+https://github.com/tensorflow/docs\n",
        "\n",
        "import tensorflow_docs as tfdocs\n",
        "import tensorflow_docs.modeling\n",
        "import tensorflow_docs.plots\n",
        "\n",
        "print(\"Version: \", tf.__version__)\n",
        "print(\"Hub version: \", hub.__version__)\n",
        "print(\"GPU is\", \"available\" if tf.config.list_physical_devices('GPU') else \"NOT AVAILABLE\")\n",
        "\n",
        "logdir = pathlib.Path(tempfile.mkdtemp())/\"tensorboard_logs\"\n",
        "shutil.rmtree(logdir, ignore_errors=True)"
      ],
      "execution_count": 14,
      "outputs": [
        {
          "output_type": "stream",
          "name": "stdout",
          "text": [
            "  Preparing metadata (setup.py) ... \u001b[?25l\u001b[?25hdone\n",
            "Version:  2.18.0\n",
            "Hub version:  0.16.1\n",
            "GPU is available\n"
          ]
        }
      ]
    },
    {
      "cell_type": "markdown",
      "metadata": {
        "id": "J6qe4NYUp0vU"
      },
      "source": [
        "## Task 3: Download and Import the Quora Insincere Questions Dataset"
      ]
    },
    {
      "cell_type": "markdown",
      "metadata": {
        "id": "dnRK0VlaDChm"
      },
      "source": [
        "A downloadable copy of the [Quora Insincere Questions Classification data](https://www.kaggle.com/c/quora-insincere-questions-classification/data) can be found [https://archive.org/download/fine-tune-bert-tensorflow-train.csv/train.csv.zip](https://archive.org/download/fine-tune-bert-tensorflow-train.csv/train.csv.zip). Decompress and read the data into a pandas DataFrame."
      ]
    },
    {
      "cell_type": "code",
      "metadata": {
        "id": "hfF56xcgs8Eb"
      },
      "source": [
        "quora_dataset = pd.read_csv(\"https://archive.org/download/fine-tune-bert-tensorflow-train.csv/train.csv.zip\", compression ='zip',  low_memory = False)"
      ],
      "execution_count": 15,
      "outputs": []
    },
    {
      "cell_type": "code",
      "metadata": {
        "id": "08kiCrj5tzcj",
        "colab": {
          "base_uri": "https://localhost:8080/"
        },
        "outputId": "0c4dc24e-d3cf-4c12-e60e-6ab7142fda37"
      },
      "source": [
        "quora_dataset.shape"
      ],
      "execution_count": 16,
      "outputs": [
        {
          "output_type": "execute_result",
          "data": {
            "text/plain": [
              "(1306122, 3)"
            ]
          },
          "metadata": {},
          "execution_count": 16
        }
      ]
    },
    {
      "cell_type": "code",
      "metadata": {
        "id": "VfWdbhfYs8Ha",
        "colab": {
          "base_uri": "https://localhost:8080/",
          "height": 604
        },
        "outputId": "a1a2eacc-22c8-4aaf-cdbe-3cc8df98f5b5"
      },
      "source": [
        "quora_dataset['target'].plot(kind='hist', title= \"Target Distribution\")"
      ],
      "execution_count": 17,
      "outputs": [
        {
          "output_type": "execute_result",
          "data": {
            "text/plain": [
              "<Axes: title={'center': 'Target Distribution'}, ylabel='Frequency'>"
            ]
          },
          "metadata": {},
          "execution_count": 17
        },
        {
          "output_type": "display_data",
          "data": {
            "text/plain": [
              "<Figure size 1200x800 with 1 Axes>"
            ],
            "image/png": "[encoded data removed]"
          },
          "metadata": {}
        }
      ]
    },
    {
      "cell_type": "code",
      "metadata": {
        "id": "VX1UEsALs8J8"
      },
      "source": [
        "from sklearn.model_selection import train_test_split\n",
        "\n",
        "train_qd, test_qd = train_test_split(quora_dataset, random_state=42, train_size=0.01, stratify=quora_dataset.target.values)\n",
        "valid_qd, _ = train_test_split(test_qd, random_state=42, train_size=0.01, stratify=test_qd.target.values)"
      ],
      "execution_count": 18,
      "outputs": []
    },
    {
      "cell_type": "code",
      "metadata": {
        "id": "G_E6VWNTs8Mn",
        "colab": {
          "base_uri": "https://localhost:8080/"
        },
        "outputId": "9ac2205c-3fc4-46c0-92f5-9078dafa05cf"
      },
      "source": [
        "train_qd.shape, valid_qd.shape"
      ],
      "execution_count": 19,
      "outputs": [
        {
          "output_type": "execute_result",
          "data": {
            "text/plain": [
              "((13061, 3), (12930, 3))"
            ]
          },
          "metadata": {},
          "execution_count": 19
        }
      ]
    },
    {
      "cell_type": "code",
      "source": [
        "train_qd.target.head(15).values"
      ],
      "metadata": {
        "colab": {
          "base_uri": "https://localhost:8080/"
        },
        "id": "IYjqUL71FzM3",
        "outputId": "4319d54c-5e41-4dd3-b577-6ba1bfed07f0"
      },
      "execution_count": 20,
      "outputs": [
        {
          "output_type": "execute_result",
          "data": {
            "text/plain": [
              "array([0, 0, 0, 0, 0, 0, 0, 0, 0, 0, 0, 1, 0, 0, 0])"
            ]
          },
          "metadata": {},
          "execution_count": 20
        }
      ]
    },
    {
      "cell_type": "code",
      "source": [
        "train_qd.question_text.head(15).values"
      ],
      "metadata": {
        "colab": {
          "base_uri": "https://localhost:8080/"
        },
        "id": "-QI0x0HrHIca",
        "outputId": "a64eb6a3-50f7-4317-ee04-550eb492401c"
      },
      "execution_count": 21,
      "outputs": [
        {
          "output_type": "execute_result",
          "data": {
            "text/plain": [
              "array(['What is your experience living in Venezuela in the current crisis? (2018)',\n",
              "       'In which state/city the price of property is highest?',\n",
              "       'Do rich blacks also call poor whites, “White Trash”?',\n",
              "       'Should my 5 yr old son and 2 yr old daughter spend the summer with their father, after a domestic violent relationship?',\n",
              "       'Why do we have parents?',\n",
              "       'Do we experience ghost like Murphy did in Interstellar?',\n",
              "       'Are Estoniano women beautiful?',\n",
              "       'There was a Funny or Die video called Sensitivity Hoedown that got pulled. Does anyone know why?',\n",
              "       'Is it a good idea to go in fully mainstream classes, even if I have meltdowns that might disrupt people?',\n",
              "       'What classifies a third world country as such?',\n",
              "       'Is being a pilot safe?',\n",
              "       'Who is Illiteratendra Modi? Why does he keep with him a Rs 1 lakh pen?',\n",
              "       'Have modern management strategies such as Total supply Chain Management applied to education? Can they be?',\n",
              "       'Why are Lucky Charms considered good for you?',\n",
              "       'How many people in India use WhatsApp, Facebook, Twitter and Instagram?'],\n",
              "      dtype=object)"
            ]
          },
          "metadata": {},
          "execution_count": 21
        }
      ]
    },
    {
      "cell_type": "markdown",
      "metadata": {
        "id": "Hu6lFucLp4Bn"
      },
      "source": [
        "## Task 4: TensorFlow Hub for Natural Language Processing"
      ]
    },
    {
      "cell_type": "markdown",
      "metadata": {
        "id": "2dDjc3ypg1uh"
      },
      "source": [
        "Our text data consits of questions and corresponding labels.\n",
        "\n",
        "You can think of a question vector as a distributed representation of a question, and is computed for every question in the training set. The question vector along with the output label is then used to train the statistical classification model.\n",
        "\n",
        "The intuition is that the question vector captures the semantics of the question and, as a result, can be effectively used for classification.\n",
        "\n",
        "To obtain question vectors, we have two alternatives that have been used for several text classification problems in NLP:\n",
        "* word-based representations and\n",
        "* context-based representations"
      ]
    },
    {
      "cell_type": "markdown",
      "metadata": {
        "id": "PKLfQ-LAhdQZ"
      },
      "source": [
        "#### Word-based Representations\n",
        "\n",
        "- A **word-based representation** of a question combines word embeddings of the content words in the question. We can use the average of the word embeddings of content words in the question. Average of word embeddings have been used for different NLP tasks.\n",
        "- Examples of pre-trained embeddings include:\n",
        "  - **Word2Vec**: These are pre-trained embeddings of words learned from a large text corpora. Word2Vec has been pre-trained on a corpus of news articles with  300 million tokens, resulting in 300-dimensional vectors.\n",
        "  - **GloVe**: has been pre-trained on a corpus of tweets with 27 billion tokens, resulting in 200-dimensional vectors.\n"
      ]
    },
    {
      "cell_type": "markdown",
      "metadata": {
        "id": "EoHvyDd7i7Hx"
      },
      "source": [
        "#### Context-based Representations\n",
        "\n",
        "- **Context-based representations** may use language models to generate vectors of sentences. So, instead of learning vectors for individual words in the sentence, they compute a vector for sentences on the whole, by taking into account the order of words and the set of co-occurring words.\n",
        "- Examples of deep contextualised vectors include:\n",
        "  - **Embeddings from Language Models (ELMo)**: uses character-based word representations and bidirectional LSTMs. The pre-trained model computes a contextualised vector of 1024 dimensions. ELMo is available on Tensorflow Hub.\n",
        "  - **Universal Sentence Encoder (USE)**: The encoder uses a Transformer  architecture that uses attention mechanism to incorporate information about the order and the collection of words. The pre-trained model of USE that returns a vector of 512 dimensions is also available on Tensorflow Hub.\n",
        "  - **Neural-Net Language Model (NNLM)**: The model simultaneously learns representations of words and probability functions for word sequences, allowing it to capture semantics of a sentence. We will use a  pretrained  models available on Tensorflow Hub, that are trained on the English Google News 200B corpus, and computes a vector of 128 dimensions for the larger model and 50 dimensions for the smaller model.\n"
      ]
    },
    {
      "cell_type": "markdown",
      "metadata": {
        "id": "3ZrM-BpDrxUG"
      },
      "source": [
        "Tensorflow Hub provides a number of [modules](https://tfhub.dev/s?module-type=text-embedding&tf-version=tf2&q=tf2) to convert sentences into embeddings such as Universal sentence ecoders, NNLM, BERT and Wikiwords."
      ]
    },
    {
      "cell_type": "markdown",
      "metadata": {
        "id": "8TOn7rWN4BW-"
      },
      "source": [
        "Transfer learning makes it possible to save training resources and to achieve good model generalization even when training on a small dataset. In this project, we will demonstrate this by training with several different TF-Hub modules."
      ]
    },
    {
      "cell_type": "code",
      "metadata": {
        "id": "ePW3i1zos8PP"
      },
      "source": [
        "module_url = \"https://tfhub.dev/google/tf2-preview/gnews-swivel-20dim/1\" #@param [\"https://tfhub.dev/google/tf2-preview/gnews-swivel-20dim/1\", \"https://tfhub.dev/google/tf2-preview/nnlm-en-dim50/1\", \"https://tfhub.dev/google/tf2-preview/nnlm-en-dim128/1\", \"https://tfhub.dev/google/universal-sentence-encoder/4\", \"https://tfhub.dev/google/universal-sentence-encoder-large/5\"] {allow-input: true}"
      ],
      "execution_count": 22,
      "outputs": []
    },
    {
      "cell_type": "markdown",
      "metadata": {
        "id": "bTTELVrtqPwW"
      },
      "source": [
        "## Tasks 5 & 6: Define Function to Build and Compile Models"
      ]
    },
    {
      "cell_type": "code",
      "metadata": {
        "id": "B6di0eiFs8ch"
      },
      "source": [
        "def train_and_evaluate_model(module_url, embed_size, name, trainable=False):\n",
        "  hub_layer = hub.KerasLayer(module_url, input_shape=[], output_shape=[embed_size], dtype = tf.string, trainable=True)\n",
        "  model = tf.keras.models.Sequential([\n",
        "      hub_layer,\n",
        "      tf.keras.layers.Dense(256, activation='relu'),\n",
        "      tf.keras.layers.Dense(64, activation='relu'),\n",
        "      tf.keras.layers.Dense(1,activation=\"sigmoid\")\n",
        "  ])\n",
        "  model.compile(optimizer=tf.keras.optimizers.Adam(learning_rate=0.0001),\n",
        "                loss= tf.losses.BinaryCrossentropy(),\n",
        "                metrics=[tf.metrics.BinaryAccuracy])\n"
      ],
      "execution_count": 26,
      "outputs": []
    },
    {
      "cell_type": "markdown",
      "metadata": {
        "id": "51YeToW1qpdi"
      },
      "source": [
        "## Task 7: Train Various Text Classification Models"
      ]
    },
    {
      "cell_type": "code",
      "metadata": {
        "id": "JmKhdRH1SsXG"
      },
      "source": [],
      "execution_count": null,
      "outputs": []
    },
    {
      "cell_type": "code",
      "metadata": {
        "id": "GWfWIypew-lk"
      },
      "source": [
        "module_url = \"https://tfhub.dev/google/tf2-preview/gnews-swivel-20dim/1\" #@param [\"https://tfhub.dev/google/tf2-preview/gnews-swivel-20dim/1\", \"https://tfhub.dev/google/tf2-preview/nnlm-en-dim50/1\", \"https://tfhub.dev/google/tf2-preview/nnlm-en-dim128/1\", \"https://tfhub.dev/google/universal-sentence-encoder/4\", \"https://tfhub.dev/google/universal-sentence-encoder-large/5\"] {allow-input: true}"
      ],
      "execution_count": null,
      "outputs": []
    },
    {
      "cell_type": "markdown",
      "metadata": {
        "id": "BJSxiRusq6CY"
      },
      "source": [
        "## Task 8: Compare Accuracy and Loss Curves"
      ]
    },
    {
      "cell_type": "code",
      "metadata": {
        "id": "taqgWQRHTfKq"
      },
      "source": [
        "plt.rcParams['figure.figsize'] = (12, 8)\n",
        "plotter = tfdocs.plots.HistoryPlotter(metric = 'accuracy')\n",
        "plotter.plot(histories)\n",
        "plt.xlabel(\"Epochs\")\n",
        "plt.legend(bbox_to_anchor=(1.0, 1.0), loc='upper left')\n",
        "plt.title(\"Accuracy Curves for Models\")\n",
        "plt.show()"
      ],
      "execution_count": null,
      "outputs": []
    },
    {
      "cell_type": "code",
      "metadata": {
        "id": "cPxhmeAib7XP"
      },
      "source": [
        "plotter = tfdocs.plots.HistoryPlotter(metric = 'loss')\n",
        "plotter.plot(histories)\n",
        "plt.xlabel(\"Epochs\")\n",
        "plt.legend(bbox_to_anchor=(1.0, 1.0), loc='upper left')\n",
        "plt.title(\"Loss Curves for Models\")\n",
        "plt.show()"
      ],
      "execution_count": null,
      "outputs": []
    },
    {
      "cell_type": "markdown",
      "metadata": {
        "id": "54bNF4m-w08D"
      },
      "source": [
        "## Task 9: Fine-tune Model from TF Hub"
      ]
    },
    {
      "cell_type": "markdown",
      "metadata": {
        "id": "TxNN-MzorJ9V"
      },
      "source": [
        "## Task 10: Train Bigger Models and Visualize Metrics with TensorBoard"
      ]
    },
    {
      "cell_type": "code",
      "metadata": {
        "id": "lG6fv6Mis8xd"
      },
      "source": [],
      "execution_count": null,
      "outputs": []
    },
    {
      "cell_type": "code",
      "metadata": {
        "id": "4_Rwudlms80h"
      },
      "source": [],
      "execution_count": null,
      "outputs": []
    },
    {
      "cell_type": "code",
      "metadata": {
        "id": "TFxWfePns83c"
      },
      "source": [],
      "execution_count": null,
      "outputs": []
    },
    {
      "cell_type": "code",
      "metadata": {
        "id": "TsM0ZMt3s86C"
      },
      "source": [],
      "execution_count": null,
      "outputs": []
    },
    {
      "cell_type": "code",
      "metadata": {
        "id": "MRO6Wkt4s889"
      },
      "source": [],
      "execution_count": null,
      "outputs": []
    },
    {
      "cell_type": "code",
      "metadata": {
        "id": "jVdlhv3Ls8_6"
      },
      "source": [],
      "execution_count": null,
      "outputs": []
    },
    {
      "cell_type": "code",
      "metadata": {
        "id": "7WavvT6vs9C3"
      },
      "source": [],
      "execution_count": null,
      "outputs": []
    },
    {
      "cell_type": "code",
      "metadata": {
        "id": "DdL4FWe_s9Fj"
      },
      "source": [],
      "execution_count": null,
      "outputs": []
    },
    {
      "cell_type": "code",
      "metadata": {
        "id": "7D9jHDdzs9IJ"
      },
      "source": [],
      "execution_count": null,
      "outputs": []
    }
  ]
}